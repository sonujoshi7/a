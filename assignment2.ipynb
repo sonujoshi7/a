{
 "cells": [
  {
   "cell_type": "code",
   "execution_count": null,
   "id": "58e66618",
   "metadata": {},
   "outputs": [],
   "source": [
    "# 1.What are the two values of the Boolean data type? How do you write them?\n",
    "two values of boolean data type is = true or flase. it can written as True or False"
   ]
  },
  {
   "cell_type": "code",
   "execution_count": null,
   "id": "2c6b25c2",
   "metadata": {},
   "outputs": [],
   "source": [
    "# 2. What are the three different types of Boolean operators?\n",
    " three type of boolean operator == And , or ,not\n"
   ]
  },
  {
   "cell_type": "code",
   "execution_count": null,
   "id": "c13fef8b",
   "metadata": {},
   "outputs": [],
   "source": [
    "# Make a list of each Boolean operatortruth tables (i.e. every possible combination of Boolean\n",
    "# values for the operator and what it evaluate\n",
    "\n",
    "operator        a               b                output\n",
    "  \n",
    "and             1               0                  0\n",
    "                1               1                  1\n",
    "    \n",
    "                0               1                  0\n",
    "                0               0                  0\n",
    "    "
   ]
  },
  {
   "cell_type": "code",
   "execution_count": null,
   "id": "1a23b2c8",
   "metadata": {},
   "outputs": [],
   "source": [
    "or              a                  b               output\n",
    "                1                  0               1\n",
    "                1                  1               1\n",
    "                0                  0               0\n",
    "                0                  1               1"
   ]
  },
  {
   "cell_type": "code",
   "execution_count": null,
   "id": "e84616a6",
   "metadata": {},
   "outputs": [],
   "source": [
    "not             a                                 output\n",
    "                1                                   0\n",
    "                0                                   1"
   ]
  },
  {
   "cell_type": "code",
   "execution_count": null,
   "id": "1531af09",
   "metadata": {},
   "outputs": [],
   "source": [
    "# 4. What are the values of the following expressions?\n",
    " (5 > 4) and (3 == 5)-----> False\n",
    " not (5 > 4)----->       False\n",
    " (5 > 4) or (3 == 5)------> True\n",
    " not ((5 >4) or (3 == 5))-----> False\n",
    "(True and True) and (True == False)------> False\n",
    " (not False) or (not True)--------> True\n"
   ]
  },
  {
   "cell_type": "code",
   "execution_count": null,
   "id": "8fec1d16",
   "metadata": {},
   "outputs": [],
   "source": [
    "# What are the six comparison operators?\n",
    ">,<,>=,<=,==,!="
   ]
  },
  {
   "cell_type": "code",
   "execution_count": null,
   "id": "e186e167",
   "metadata": {},
   "outputs": [],
   "source": [
    "# 6. How do you tell the difference between the equal to and assignment operators?Describe a\n",
    "# condition and when you would use one.\n",
    "=   operator used when we want to assign the value to any variable\n",
    "== operator used when we want to check the condition if variable is equal to another variable\n",
    "use:\n",
    "   = if we want to assign the value ( like a=5) ,== used when we check the conditon and compare them (a==b)\n"
   ]
  },
  {
   "cell_type": "code",
   "execution_count": null,
   "id": "a3deadd2",
   "metadata": {},
   "outputs": [],
   "source": [
    "# 7. Identify the three blocks in this code:\n",
    "spam = 0\n",
    "if spam == 10:\n",
    "    print(\"eggs\")\n",
    "if spam > 5:\n",
    "    print(\"bacon\")\n",
    "else:\n",
    "    print(\"ham\")\n",
    "    print(\"spam\")\n",
    "    print(\"spam\")\n",
    "\n",
    "\n"
   ]
  },
  {
   "cell_type": "code",
   "execution_count": null,
   "id": "ea8af8cc",
   "metadata": {},
   "outputs": [],
   "source": [
    "# Write code that prints Hello if 1 is stored in spam, prints Howdy if 2 is stored in spam, and prints\n",
    "# Greetings! if anything else is stored in spam.\n",
    "spam =int((input (\"enter a number\")))\n",
    "if spam==1:\n",
    "    print(\"hello\")\n",
    "elif spam==2:\n",
    "    print(\"Howdy\")\n",
    "else :\n",
    "    print(\"Greeting!\")\n"
   ]
  },
  {
   "cell_type": "code",
   "execution_count": null,
   "id": "44623323",
   "metadata": {},
   "outputs": [],
   "source": [
    "# 9.If your programme is stuck in an endless loop, what keys you’ll press?\n",
    "ctr+c"
   ]
  },
  {
   "cell_type": "code",
   "execution_count": null,
   "id": "354a88f1",
   "metadata": {},
   "outputs": [],
   "source": [
    "# How can you tell the difference between break and continue?\n",
    "break = used for end the condition or loop\n",
    "continue = it is used to skip the current itration and moves to next itration\n"
   ]
  },
  {
   "cell_type": "code",
   "execution_count": null,
   "id": "98d78e35",
   "metadata": {},
   "outputs": [],
   "source": [
    "# In a for loop, what is the difference between range(10), range(0, 10), and range(0, 10, 1)?\n",
    "\n",
    "range(10),range(0,10),range(0,10,1) == all these three have no differnce they are excatlay same\n"
   ]
  },
  {
   "cell_type": "code",
   "execution_count": null,
   "id": "2feaf492",
   "metadata": {},
   "outputs": [],
   "source": [
    "# Write a short program that prints the numbers 1 to 10 using a for loop. Then write an equivalent\n",
    "# program that prints the numbers 1 to 10 using a while loop.\n",
    "# using for loop\n",
    "for i in range(11):\n",
    "    print(i)\n"
   ]
  },
  {
   "cell_type": "code",
   "execution_count": null,
   "id": "d6b2ec21",
   "metadata": {},
   "outputs": [],
   "source": [
    "i =0\n",
    "while i<11:\n",
    "    print(i)\n",
    "    i = i+1"
   ]
  },
  {
   "cell_type": "code",
   "execution_count": null,
   "id": "6ba3edf0",
   "metadata": {},
   "outputs": [],
   "source": [
    "#  If you had a function named bacon() inside a module named spam, how would you call it after\n",
    "# importing spam\n",
    "module is not discuss yet in the class:\n",
    "    "
   ]
  }
 ],
 "metadata": {
  "kernelspec": {
   "display_name": "Python 3 (ipykernel)",
   "language": "python",
   "name": "python3"
  },
  "language_info": {
   "codemirror_mode": {
    "name": "ipython",
    "version": 3
   },
   "file_extension": ".py",
   "mimetype": "text/x-python",
   "name": "python",
   "nbconvert_exporter": "python",
   "pygments_lexer": "ipython3",
   "version": "3.9.12"
  }
 },
 "nbformat": 4,
 "nbformat_minor": 5
}
